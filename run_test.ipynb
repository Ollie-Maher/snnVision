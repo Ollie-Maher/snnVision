{
 "cells": [
  {
   "cell_type": "code",
   "execution_count": 1,
   "metadata": {
    "colab": {
     "base_uri": "https://localhost:8080/"
    },
    "executionInfo": {
     "elapsed": 901,
     "status": "ok",
     "timestamp": 1734358067546,
     "user": {
      "displayName": "Ollie Maher",
      "userId": "08218540019408135940"
     },
     "user_tz": 0
    },
    "id": "tH_vA8XuyT6y",
    "outputId": "0d93d2f1-09c7-4415-caaa-479b6bbf46d2"
   },
   "outputs": [
    {
     "name": "stdout",
     "output_type": "stream",
     "text": [
      "Cloning into 'snnVision'...\n",
      "remote: Enumerating objects: 41, done.\u001b[K\n",
      "remote: Counting objects: 100% (41/41), done.\u001b[K\n",
      "remote: Compressing objects: 100% (38/38), done.\u001b[K\n",
      "remote: Total 41 (delta 4), reused 34 (delta 2), pack-reused 0 (from 0)\u001b[K\n",
      "Receiving objects: 100% (41/41), 289.12 KiB | 16.06 MiB/s, done.\n",
      "Resolving deltas: 100% (4/4), done.\n"
     ]
    }
   ],
   "source": [
    "# @title\n",
    "!git clone https://github.com/Ollie-Maher/snnVision.git"
   ]
  }
 ],
 "metadata": {
  "colab": {
   "authorship_tag": "ABX9TyNcT6Ko15h3XPFrMgPBx2gg",
   "provenance": []
  },
  "kernelspec": {
   "display_name": "Python 3",
   "name": "python3"
  },
  "language_info": {
   "name": "python"
  }
 },
 "nbformat": 4,
 "nbformat_minor": 0
}
