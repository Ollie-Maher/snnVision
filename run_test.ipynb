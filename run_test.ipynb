!git clone https://github.com/Ollie-Maher/snnVision.git
